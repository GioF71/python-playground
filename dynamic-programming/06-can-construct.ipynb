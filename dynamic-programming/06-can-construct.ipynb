{
 "cells": [
  {
   "cell_type": "code",
   "execution_count": 1,
   "id": "b4ba504c",
   "metadata": {},
   "outputs": [
    {
     "name": "stdout",
     "output_type": "stream",
     "text": [
      "True\n",
      "False\n",
      "True\n"
     ]
    }
   ],
   "source": [
    "def canConstruct(target, wordBank):\n",
    "    if len(target) == 0: return True\n",
    "    \n",
    "    for word in wordBank:\n",
    "        if target.startswith(word) == True:\n",
    "            suffix = target[len(word):]\n",
    "            if canConstruct(suffix, wordBank) == True:\n",
    "                return True\n",
    "    \n",
    "    return False\n",
    "            \n",
    "print(canConstruct(\"abcdef\", [\"ab\", \"abc\", \"cd\", \"def\", \"abcd\"]))  # True\n",
    "print(canConstruct(\"skateboard\", [\"bo\", \"rd\", \"ate\", \"t\", \"ska\", \"sk\", \"boar\"])) # False\n",
    "print(canConstruct(\"enterapotentpot\", [\"a\", \"p\", \"ent\", \"enter\", \"ot\", \"o\", \"t\"])) # True\n",
    "# too slow\n",
    "#print(canConstruct(\"eeeeeeeeeeeeeeeeeeeeeeeeeeeeeeeeeeeeeeef\", [\n",
    "    #\"e\", \n",
    "    #\"ee\", \n",
    "    #\"eee\", \n",
    "    #\"eeee\", \n",
    "    #\"eeeeee\", \n",
    "    #\"eeeeeee\"])) #False"
   ]
  },
  {
   "cell_type": "code",
   "execution_count": 2,
   "id": "e4658103",
   "metadata": {},
   "outputs": [
    {
     "name": "stdout",
     "output_type": "stream",
     "text": [
      "True\n",
      "False\n",
      "True\n",
      "False\n"
     ]
    }
   ],
   "source": [
    "def canConstruct(target, wordBank, memo = None):\n",
    "    if len(target) == 0: return True\n",
    "    \n",
    "    if (memo is None): memo = {}\n",
    "    if (target in memo): return memo[target]\n",
    "    \n",
    "    for word in wordBank:\n",
    "        if target.startswith(word) == True:\n",
    "            suffix = target[len(word):]\n",
    "            if canConstruct(suffix, wordBank, memo) == True:\n",
    "                memo[target] = True\n",
    "                return True\n",
    "    \n",
    "    memo[target] = False\n",
    "    return False\n",
    "            \n",
    "print(canConstruct(\"abcdef\", [\"ab\", \"abc\", \"cd\", \"def\", \"abcd\"]))  # True\n",
    "print(canConstruct(\"skateboard\", [\"bo\", \"rd\", \"ate\", \"t\", \"ska\", \"sk\", \"boar\"])) # False\n",
    "print(canConstruct(\"enterapotentpot\", [\"a\", \"p\", \"ent\", \"enter\", \"ot\", \"o\", \"t\"])) # True\n",
    "# not too slow now\n",
    "print(canConstruct(\"eeeeeeeeeeeeeeeeeeeeeeeeeeeeeeeeeeeeeeef\", [\n",
    "    \"e\", \n",
    "    \"ee\", \n",
    "    \"eee\", \n",
    "    \"eeee\", \n",
    "    \"eeeeee\", \n",
    "    \"eeeeeee\"])) # True"
   ]
  }
 ],
 "metadata": {
  "kernelspec": {
   "display_name": "Python 3 (ipykernel)",
   "language": "python",
   "name": "python3"
  },
  "language_info": {
   "codemirror_mode": {
    "name": "ipython",
    "version": 3
   },
   "file_extension": ".py",
   "mimetype": "text/x-python",
   "name": "python",
   "nbconvert_exporter": "python",
   "pygments_lexer": "ipython3",
   "version": "3.10.5"
  }
 },
 "nbformat": 4,
 "nbformat_minor": 5
}
