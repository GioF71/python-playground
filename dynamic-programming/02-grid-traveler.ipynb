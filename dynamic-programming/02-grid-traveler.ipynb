{
 "cells": [
  {
   "cell_type": "code",
   "execution_count": 23,
   "id": "7848f299",
   "metadata": {},
   "outputs": [
    {
     "name": "stdout",
     "output_type": "stream",
     "text": [
      "1\n",
      "3\n",
      "3\n",
      "6\n"
     ]
    }
   ],
   "source": [
    "def gridTraveler(m, n):\n",
    "    if m == 1 and n == 1: \n",
    "        return 1\n",
    "    if m == 0 or n == 0: \n",
    "        return 0\n",
    "    return gridTraveler(m - 1, n) + gridTraveler(m, n - 1)\n",
    "\n",
    "print(gridTraveler(1, 1))     # 1\n",
    "print(gridTraveler(2, 3))     # 3\n",
    "print(gridTraveler(3, 2))     # 3\n",
    "print(gridTraveler(3, 3))     # 6\n",
    "\n",
    "# too slow\n",
    "#print(gridTraveler(18, 18))  # 2333606220\n",
    "\n",
    "    "
   ]
  },
  {
   "cell_type": "code",
   "execution_count": 20,
   "id": "5f5abd32",
   "metadata": {},
   "outputs": [
    {
     "name": "stdout",
     "output_type": "stream",
     "text": [
      "1\n",
      "3\n",
      "3\n",
      "6\n",
      "2333606220\n"
     ]
    }
   ],
   "source": [
    "def gridTraveler(m, n, memo = {}):\n",
    "    key = \"{}.{}\".format(m, n)\n",
    "    if key in memo: return memo[key];\n",
    "    if m == 1 and n == 1: \n",
    "        return 1\n",
    "    if m == 0 or n == 0: \n",
    "        return 0\n",
    "    memo[key] = gridTraveler(m - 1, n, memo) + gridTraveler(m, n - 1, memo)\n",
    "    return memo[key]\n",
    "\n",
    "print(gridTraveler(1, 1))    # 1\n",
    "print(gridTraveler(2, 3))    # 3\n",
    "print(gridTraveler(3, 2))    # 3\n",
    "print(gridTraveler(3, 3))    # 6\n",
    "\n",
    "# not too slow now\n",
    "print(gridTraveler(18, 18))  # 2333606220"
   ]
  },
  {
   "cell_type": "code",
   "execution_count": 21,
   "id": "047eb357",
   "metadata": {},
   "outputs": [
    {
     "name": "stdout",
     "output_type": "stream",
     "text": [
      "1\n",
      "3\n",
      "3\n",
      "6\n",
      "2333606220\n"
     ]
    }
   ],
   "source": [
    "def gridTraveler(m, n, memo = {}):\n",
    "    key = \"{}.{}\".format(min(m, n), max(m, n)) ### fewer keys\n",
    "    # see the keys? uncomment the following\n",
    "    #print(\"key\", key)\n",
    "    if key in memo: return memo[key];\n",
    "    if m == 1 and n == 1: \n",
    "        return 1\n",
    "    if m == 0 or n == 0: \n",
    "        return 0\n",
    "    result = gridTraveler(m - 1, n, memo) + gridTraveler(m, n - 1, memo)\n",
    "    memo[key] = result\n",
    "    return result\n",
    "\n",
    "print(gridTraveler(1, 1))    # 1\n",
    "print(gridTraveler(2, 3))    # 3\n",
    "print(gridTraveler(3, 2))    # 3\n",
    "print(gridTraveler(3, 3))    # 6\n",
    "\n",
    "# not too slow now\n",
    "print(gridTraveler(18, 18))  # 2333606220"
   ]
  },
  {
   "cell_type": "code",
   "execution_count": null,
   "id": "69a7ea85",
   "metadata": {},
   "outputs": [],
   "source": []
  }
 ],
 "metadata": {
  "kernelspec": {
   "display_name": "Python 3 (ipykernel)",
   "language": "python",
   "name": "python3"
  },
  "language_info": {
   "codemirror_mode": {
    "name": "ipython",
    "version": 3
   },
   "file_extension": ".py",
   "mimetype": "text/x-python",
   "name": "python",
   "nbconvert_exporter": "python",
   "pygments_lexer": "ipython3",
   "version": "3.10.5"
  }
 },
 "nbformat": 4,
 "nbformat_minor": 5
}
