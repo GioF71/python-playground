{
 "cells": [
  {
   "cell_type": "code",
   "execution_count": 1,
   "id": "2173a8b0",
   "metadata": {},
   "outputs": [
    {
     "name": "stdout",
     "output_type": "stream",
     "text": [
      "2\n",
      "1\n",
      "0\n",
      "4\n"
     ]
    }
   ],
   "source": [
    "def countConstruct(target, wordBank):\n",
    "    if len(target) == 0: return 1\n",
    "    \n",
    "    totalCount = 0\n",
    "    \n",
    "    for word in wordBank:\n",
    "        if target.startswith(word) == True:\n",
    "            numWaysForRest = countConstruct(target[len(word):], wordBank)\n",
    "            totalCount += numWaysForRest\n",
    "    \n",
    "    return totalCount\n",
    "            \n",
    "print(countConstruct(\"purple\", [\"purp\", \"p\", \"ur\", \"le\", \"purpl\"])) #2 \n",
    "print(countConstruct(\"abcdef\", [\"ab\", \"abc\", \"cd\", \"def\", \"abcd\"])) #1 \n",
    "print(countConstruct(\"skateboard\", [\"bo\", \"rd\", \"ate\", \"t\", \"ska\", \"sk\", \"boar\"])) #0 \n",
    "print(countConstruct(\"enterapotentpot\", [\"a\", \"p\", \"ent\", \"enter\", \"ot\", \"o\", \"t\"])) #4\n",
    "# too slow\n",
    "#print(countConstruct(\"eeeeeeeeeeeeeeeeeeeeeeeeeeeeeeeeeeeeeeeeef\", [\n",
    "    #\"e\", \n",
    "    #\"ee\", \n",
    "    #\"eee\", \n",
    "    #\"eeee\", \n",
    "    #\"eeeeee\", \n",
    "    #\"eeeeeee\"])) #0"
   ]
  },
  {
   "cell_type": "code",
   "execution_count": 2,
   "id": "44f0bb37",
   "metadata": {},
   "outputs": [
    {
     "name": "stdout",
     "output_type": "stream",
     "text": [
      "2\n",
      "1\n",
      "0\n",
      "4\n",
      "0\n"
     ]
    }
   ],
   "source": [
    "### memoize it!\n",
    "\n",
    "def countConstruct(target, wordBank, memo = None):\n",
    "    if len(target) == 0: return 1\n",
    "    if memo is None: memo = {}\n",
    "        \n",
    "    if target in memo: return memo[target]\n",
    "        \n",
    "    totalCount = 0\n",
    "    \n",
    "    for word in wordBank:\n",
    "        if target.startswith(word) == True:\n",
    "            numWaysForRest = countConstruct(target[len(word):], wordBank, memo)\n",
    "            totalCount += numWaysForRest\n",
    "    \n",
    "    memo[target] = totalCount\n",
    "    return totalCount\n",
    "            \n",
    "print(countConstruct(\"purple\", [\"purp\", \"p\", \"ur\", \"le\", \"purpl\"])) #2 \n",
    "print(countConstruct(\"abcdef\", [\"ab\", \"abc\", \"cd\", \"def\", \"abcd\"])) #1 \n",
    "print(countConstruct(\"skateboard\", [\"bo\", \"rd\", \"ate\", \"t\", \"ska\", \"sk\", \"boar\"])) #0 \n",
    "print(countConstruct(\"enterapotentpot\", [\"a\", \"p\", \"ent\", \"enter\", \"ot\", \"o\", \"t\"])) #4\n",
    "# not too slow now\n",
    "print(countConstruct(\"eeeeeeeeeeeeeeeeeeeeeeeeeeeeeeeeeeeeeeeeef\", [\n",
    "    \"e\", \n",
    "    \"ee\", \n",
    "    \"eee\", \n",
    "    \"eeee\", \n",
    "    \"eeeeee\", \n",
    "    \"eeeeeee\"])) #0"
   ]
  }
 ],
 "metadata": {
  "kernelspec": {
   "display_name": "Python 3 (ipykernel)",
   "language": "python",
   "name": "python3"
  },
  "language_info": {
   "codemirror_mode": {
    "name": "ipython",
    "version": 3
   },
   "file_extension": ".py",
   "mimetype": "text/x-python",
   "name": "python",
   "nbconvert_exporter": "python",
   "pygments_lexer": "ipython3",
   "version": "3.10.5"
  }
 },
 "nbformat": 4,
 "nbformat_minor": 5
}
