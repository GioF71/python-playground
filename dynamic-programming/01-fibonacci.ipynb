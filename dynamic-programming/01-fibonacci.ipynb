{
 "cells": [
  {
   "cell_type": "code",
   "execution_count": 1,
   "id": "eb772997",
   "metadata": {},
   "outputs": [
    {
     "name": "stdout",
     "output_type": "stream",
     "text": [
      "8\n",
      "13\n",
      "21\n"
     ]
    }
   ],
   "source": [
    "def fib(n):\n",
    "    if n <= 2:\n",
    "        return 1\n",
    "    return fib(n - 1) + fib(n - 2)\n",
    "\n",
    "print(fib(6)) #8\n",
    "print(fib(7)) #13\n",
    "print(fib(8)) #21\n",
    "# the following would be too slow\n",
    "# print(fib(50)) #12586269025\n"
   ]
  },
  {
   "cell_type": "code",
   "execution_count": 1,
   "id": "e8b84bf3",
   "metadata": {},
   "outputs": [
    {
     "name": "stdout",
     "output_type": "stream",
     "text": [
      "8\n",
      "13\n",
      "21\n",
      "12586269025\n"
     ]
    }
   ],
   "source": [
    "### memoize it!\n",
    "\n",
    "def fib(n, memo = None):\n",
    "    if n <= 2: return 1\n",
    "    if memo == None: memo = {}\n",
    "    if n in memo:\n",
    "        return memo[n]\n",
    "    memo[n] = fib(n - 1, memo) + fib(n - 2, memo)\n",
    "    return memo[n]\n",
    "\n",
    "print(fib(6))  #8\n",
    "print(fib(7))  #13\n",
    "print(fib(8))  #21\n",
    "print(fib(50)) #12586269025"
   ]
  }
 ],
 "metadata": {
  "kernelspec": {
   "display_name": "Python 3 (ipykernel)",
   "language": "python",
   "name": "python3"
  },
  "language_info": {
   "codemirror_mode": {
    "name": "ipython",
    "version": 3
   },
   "file_extension": ".py",
   "mimetype": "text/x-python",
   "name": "python",
   "nbconvert_exporter": "python",
   "pygments_lexer": "ipython3",
   "version": "3.10.5"
  }
 },
 "nbformat": 4,
 "nbformat_minor": 5
}
