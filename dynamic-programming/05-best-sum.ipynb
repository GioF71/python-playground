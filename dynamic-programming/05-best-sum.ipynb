{
 "cells": [
  {
   "cell_type": "code",
   "execution_count": 1,
   "id": "280c77ad",
   "metadata": {},
   "outputs": [
    {
     "name": "stdout",
     "output_type": "stream",
     "text": [
      "[7]\n",
      "[5, 3]\n",
      "[4, 4]\n"
     ]
    }
   ],
   "source": [
    "def bestSum(targetSum, numbers):\n",
    "    if targetSum == 0: return []\n",
    "    if targetSum < 0: return None\n",
    "    \n",
    "    shortestCombination = None\n",
    "    \n",
    "    for num in numbers:\n",
    "        remainder = targetSum - num\n",
    "        remainderCombination = bestSum(remainder, numbers)\n",
    "        if remainderCombination != None:\n",
    "            combination = remainderCombination.copy()\n",
    "            combination.append(num)\n",
    "            if shortestCombination is None or len(combination) < len(shortestCombination):\n",
    "                shortestCombination = combination\n",
    "    \n",
    "    return shortestCombination\n",
    "\n",
    "print(bestSum(7, [5,3,4,7]))        #7\n",
    "print(bestSum(8, [2,3,5]))          #3,5\n",
    "print(bestSum(8, [1,4,5]))          #4,4\n",
    "\n",
    "# too slow\n",
    "#print(bestSum(100, [1,2,5,25]))     #25,25,25,25"
   ]
  },
  {
   "cell_type": "code",
   "execution_count": 2,
   "id": "d78ffe0e",
   "metadata": {},
   "outputs": [
    {
     "name": "stdout",
     "output_type": "stream",
     "text": [
      "[7]\n",
      "[5, 3]\n",
      "[4, 4]\n",
      "[25, 25, 25, 25]\n"
     ]
    }
   ],
   "source": [
    "def bestSum(targetSum, numbers, memo = None):\n",
    "    if targetSum == 0: return []\n",
    "    if targetSum < 0: return None\n",
    "    \n",
    "    if memo is None: memo = {}\n",
    "    if targetSum in memo: return memo[targetSum]\n",
    "    \n",
    "    shortestCombination = None\n",
    "    \n",
    "    for num in numbers:\n",
    "        remainder = targetSum - num\n",
    "        remainderCombination = bestSum(remainder, numbers, memo)\n",
    "        if remainderCombination != None:\n",
    "            combination = remainderCombination.copy()\n",
    "            combination.append(num)\n",
    "            if shortestCombination is None or len(combination) < len(shortestCombination):\n",
    "                shortestCombination = combination\n",
    "    \n",
    "    memo[targetSum] = shortestCombination\n",
    "    return shortestCombination\n",
    "\n",
    "print(bestSum(7, [5,3,4,7]))        #7\n",
    "print(bestSum(8, [2,3,5]))          #3,5\n",
    "print(bestSum(8, [1,4,5]))          #4,4\n",
    "\n",
    "# not too slow now\n",
    "print(bestSum(100, [1,2,5,25]))     #25,25,25,25"
   ]
  }
 ],
 "metadata": {
  "kernelspec": {
   "display_name": "Python 3 (ipykernel)",
   "language": "python",
   "name": "python3"
  },
  "language_info": {
   "codemirror_mode": {
    "name": "ipython",
    "version": 3
   },
   "file_extension": ".py",
   "mimetype": "text/x-python",
   "name": "python",
   "nbconvert_exporter": "python",
   "pygments_lexer": "ipython3",
   "version": "3.10.5"
  }
 },
 "nbformat": 4,
 "nbformat_minor": 5
}
