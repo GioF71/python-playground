{
 "cells": [
  {
   "cell_type": "code",
   "execution_count": 1,
   "id": "504f60bb",
   "metadata": {},
   "outputs": [
    {
     "name": "stdout",
     "output_type": "stream",
     "text": [
      "[3, 2, 2]\n",
      "[4, 3]\n",
      "None\n",
      "[2, 2, 2, 2]\n"
     ]
    }
   ],
   "source": [
    "def howSum(targetSum, numbers):\n",
    "    if targetSum == 0: return []\n",
    "    if targetSum < 0: return None\n",
    "    \n",
    "    for num in numbers:\n",
    "        remainder = targetSum - num\n",
    "        remainderResult = howSum(remainder, numbers)\n",
    "        if remainderResult != None:\n",
    "            result = remainderResult.copy()\n",
    "            result.append(num)\n",
    "            return result\n",
    "    return None\n",
    "\n",
    "print(howSum(7, [2,3]))        ## 3,2,2\n",
    "print(howSum(7, [5,3,4,7]))    ## 4,3\n",
    "print(howSum(7, [2,4]))        ## None\n",
    "print(howSum(8, [2,3,5]))      ## 2,2,2,2\n",
    "# too slow\n",
    "#print(howSum(300, [7,14]))     ## None"
   ]
  },
  {
   "cell_type": "code",
   "execution_count": 2,
   "id": "926a44df",
   "metadata": {},
   "outputs": [
    {
     "name": "stdout",
     "output_type": "stream",
     "text": [
      "[3, 2, 2]\n",
      "[4, 3]\n",
      "None\n",
      "[2, 2, 2, 2]\n",
      "None\n"
     ]
    }
   ],
   "source": [
    "### memoize it!\n",
    "\n",
    "def howSum(targetSum, numbers, memo = None):\n",
    "    if targetSum == 0: return []\n",
    "    if targetSum < 0: return None\n",
    "    \n",
    "    if memo is None: memo = {}\n",
    "    if targetSum in memo: return memo[targetSum]\n",
    "    \n",
    "    for num in numbers:\n",
    "        remainder = targetSum - num\n",
    "        remainderResult = howSum(remainder, numbers, memo)\n",
    "        if remainderResult != None:\n",
    "            result = remainderResult.copy()\n",
    "            result.append(num)\n",
    "            memo[remainder] = result\n",
    "            return result\n",
    "    memo[targetSum] = None\n",
    "    return None\n",
    "\n",
    "print(howSum(7, [2,3]))        ## 3,2,2\n",
    "print(howSum(7, [5,3,4,7]))    ## 4,3\n",
    "print(howSum(7, [2,4]))        ## None\n",
    "print(howSum(8, [2,3,5]))      ## 2,2,2,2\n",
    "# not slow now\n",
    "print(howSum(300, [7,14]))     ## None"
   ]
  },
  {
   "cell_type": "code",
   "execution_count": 3,
   "id": "4d9ac605",
   "metadata": {},
   "outputs": [
    {
     "name": "stdout",
     "output_type": "stream",
     "text": [
      "[3, 2, 2]\n",
      "[4, 3]\n",
      "None\n",
      "[2, 2, 2, 2]\n",
      "None\n"
     ]
    }
   ],
   "source": [
    "### Tabulation\n",
    "\n",
    "def howSum(targetSum, numbers):\n",
    "    table = [None] * (targetSum + 1)\n",
    "    table[0] = []\n",
    "    for i in range(0, targetSum + 1):\n",
    "        if table[i] is not None:\n",
    "            for num in numbers:\n",
    "                if i + num <= targetSum:\n",
    "                    tmp = table[i].copy()\n",
    "                    tmp.append(num)\n",
    "                    table[i + num] = tmp \n",
    "    return table[targetSum]\n",
    "    \n",
    "print(howSum(7, [2,3]))        ## 3,2,2\n",
    "print(howSum(7, [5,3,4,7]))    ## 4,3\n",
    "print(howSum(7, [2,4]))        ## None\n",
    "print(howSum(8, [2,3,5]))      ## 2,2,2,2\n",
    "print(howSum(300, [7,14]))     ## None"
   ]
  }
 ],
 "metadata": {
  "kernelspec": {
   "display_name": "Python 3 (ipykernel)",
   "language": "python",
   "name": "python3"
  },
  "language_info": {
   "codemirror_mode": {
    "name": "ipython",
    "version": 3
   },
   "file_extension": ".py",
   "mimetype": "text/x-python",
   "name": "python",
   "nbconvert_exporter": "python",
   "pygments_lexer": "ipython3",
   "version": "3.10.5"
  }
 },
 "nbformat": 4,
 "nbformat_minor": 5
}
