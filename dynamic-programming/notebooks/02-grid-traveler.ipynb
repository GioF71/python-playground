{
 "cells": [
  {
   "cell_type": "code",
   "execution_count": 1,
   "id": "7848f299",
   "metadata": {},
   "outputs": [
    {
     "name": "stdout",
     "output_type": "stream",
     "text": [
      "1\n",
      "3\n",
      "3\n",
      "6\n"
     ]
    }
   ],
   "source": [
    "def gridTraveler(m, n):\n",
    "    if m == 1 and n == 1: return 1\n",
    "    if m == 0 or n == 0: return 0\n",
    "    return gridTraveler(m - 1, n) + gridTraveler(m, n - 1)\n",
    "\n",
    "print(gridTraveler(1, 1))     # 1\n",
    "print(gridTraveler(2, 3))     # 3\n",
    "print(gridTraveler(3, 2))     # 3\n",
    "print(gridTraveler(3, 3))     # 6\n",
    "\n",
    "# too slow\n",
    "#print(gridTraveler(18, 18))  # 2333606220"
   ]
  },
  {
   "cell_type": "code",
   "execution_count": 2,
   "id": "5f5abd32",
   "metadata": {},
   "outputs": [
    {
     "name": "stdout",
     "output_type": "stream",
     "text": [
      "1\n",
      "3\n",
      "3\n",
      "6\n",
      "2333606220\n"
     ]
    }
   ],
   "source": [
    "### memoize it!\n",
    "\n",
    "def gridTraveler(m, n, memo = None):\n",
    "    if m == 1 and n == 1: return 1\n",
    "    if m == 0 or n == 0: return 0\n",
    "    if memo is None: memo = {}\n",
    "    key = \"{}.{}\".format(m, n)\n",
    "    if key in memo: return memo[key];\n",
    "    memo[key] = gridTraveler(m - 1, n, memo) + gridTraveler(m, n - 1, memo)\n",
    "    return memo[key]\n",
    "\n",
    "print(gridTraveler(1, 1))    # 1\n",
    "print(gridTraveler(2, 3))    # 3\n",
    "print(gridTraveler(3, 2))    # 3\n",
    "print(gridTraveler(3, 3))    # 6\n",
    "\n",
    "# not too slow now\n",
    "print(gridTraveler(18, 18))  # 2333606220"
   ]
  },
  {
   "cell_type": "code",
   "execution_count": 3,
   "id": "1d8468e3",
   "metadata": {},
   "outputs": [
    {
     "name": "stdout",
     "output_type": "stream",
     "text": [
      "1\n",
      "3\n",
      "3\n",
      "6\n",
      "2333606220\n"
     ]
    }
   ],
   "source": [
    "### Tabulation\n",
    "\n",
    "def gridTraveler(m, n):\n",
    "    table = [ [0] * (n + 1) for _ in range(m + 1)]\n",
    "    table[1][1] = 1\n",
    "    for i in range(0, m + 1):\n",
    "        for j in range(0, n + 1):\n",
    "            current = table[i][j]\n",
    "            if j + 1 <= n: table[i][j + 1] += current\n",
    "            if i + 1 <= m: table[i + 1][j] += current\n",
    "    return table[m][n]\n",
    "\n",
    "print(gridTraveler(1, 1))    # 1\n",
    "print(gridTraveler(2, 3))    # 3\n",
    "print(gridTraveler(3, 2))    # 3\n",
    "print(gridTraveler(3, 3))    # 6\n",
    "print(gridTraveler(18, 18))  # 2333606220"
   ]
  }
 ],
 "metadata": {
  "kernelspec": {
   "display_name": "Python 3 (ipykernel)",
   "language": "python",
   "name": "python3"
  },
  "language_info": {
   "codemirror_mode": {
    "name": "ipython",
    "version": 3
   },
   "file_extension": ".py",
   "mimetype": "text/x-python",
   "name": "python",
   "nbconvert_exporter": "python",
   "pygments_lexer": "ipython3",
   "version": "3.10.5"
  }
 },
 "nbformat": 4,
 "nbformat_minor": 5
}
