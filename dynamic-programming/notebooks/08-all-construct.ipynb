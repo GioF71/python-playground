{
 "cells": [
  {
   "cell_type": "code",
   "execution_count": 1,
   "id": "fd9d0691",
   "metadata": {},
   "outputs": [
    {
     "name": "stdout",
     "output_type": "stream",
     "text": [
      "[['purp', 'le'], ['p', 'ur', 'p', 'le']]\n",
      "[['ab', 'cd', 'ef'], ['ab', 'c', 'def'], ['abc', 'def'], ['abcd', 'ef']]\n",
      "[]\n"
     ]
    }
   ],
   "source": [
    "def allConstruct(target, wordBank):\n",
    "    if len(target) == 0: return [[]]\n",
    "    \n",
    "    result = []\n",
    "    \n",
    "    for word in wordBank:\n",
    "        if target.startswith(word):\n",
    "            suffix = target[len(word):]\n",
    "            suffixWays = allConstruct(suffix, wordBank)\n",
    "            \n",
    "            for sw in suffixWays:\n",
    "                partial = sw.copy()\n",
    "                partial.insert(0, word)\n",
    "                result.append(partial)\n",
    "    \n",
    "    return result\n",
    "\n",
    "print(allConstruct(\"purple\", [\"purp\", \"p\", \"ur\", \"le\", \"purpl\"]))\n",
    "    # purp, le\n",
    "    # p, ur, p, le\n",
    "print(allConstruct(\"abcdef\", [\"ab\", \"abc\", \"cd\", \"def\", \"abcd\", \"ef\", \"c\"]))\n",
    "    # ab, cd, ef\n",
    "    # ab, c, def\n",
    "    # abc, def\n",
    "    # abcd, ef\n",
    "print(allConstruct(\"skateboard\", [\"bo\", \"rd\", \"ate\", \"t\", \"ska\", \"sk\", \"boar\"])) # []\n",
    "# too slow\n",
    "#print(allConstruct(\"aaaaaaaaaaaaaaaaaaaaazzzzzz\", [\"a\", \"aa\", \"aaa\", \"aaaa\", \"aaaaa\"])) # []"
   ]
  },
  {
   "cell_type": "code",
   "execution_count": 2,
   "id": "32c57361",
   "metadata": {},
   "outputs": [
    {
     "name": "stdout",
     "output_type": "stream",
     "text": [
      "[['purp', 'le'], ['p', 'ur', 'p', 'le']]\n",
      "[['ab', 'cd', 'ef'], ['ab', 'c', 'def'], ['abc', 'def'], ['abcd', 'ef']]\n",
      "[]\n",
      "[]\n"
     ]
    }
   ],
   "source": [
    "### memoize it!\n",
    "\n",
    "def allConstruct(target, wordBank, memo = None):\n",
    "    if len(target) == 0: return [[]]\n",
    "    if memo is None: memo = {}\n",
    "    if target in memo: return memo[target]\n",
    "    result = []\n",
    "    for word in wordBank:\n",
    "        if target.startswith(word):\n",
    "            suffix = target[len(word):]\n",
    "            suffixWays = allConstruct(suffix, wordBank, memo)\n",
    "            for sw in suffixWays:\n",
    "                partial = sw.copy()\n",
    "                partial.insert(0, word)\n",
    "                result.append(partial)\n",
    "    memo[target] = result\n",
    "    return result\n",
    "\n",
    "print(allConstruct(\"purple\", [\"purp\", \"p\", \"ur\", \"le\", \"purpl\"]))\n",
    "    # purp, le\n",
    "    # p, ur, p, le\n",
    "print(allConstruct(\"abcdef\", [\"ab\", \"abc\", \"cd\", \"def\", \"abcd\", \"ef\", \"c\"]))\n",
    "    # ab, cd, ef\n",
    "    # ab, c, def\n",
    "    # abc, def\n",
    "    # abcd, ef\n",
    "print(allConstruct(\"skateboard\", [\"bo\", \"rd\", \"ate\", \"t\", \"ska\", \"sk\", \"boar\"])) # []\n",
    "# not too slow now\n",
    "print(allConstruct(\"aaaaaaaaaaaaaaaaaaaaazzzzzz\", [\"a\", \"aa\", \"aaa\", \"aaaa\", \"aaaaa\"])) # []"
   ]
  },
  {
   "cell_type": "code",
   "execution_count": 3,
   "id": "89fa21cd",
   "metadata": {},
   "outputs": [
    {
     "name": "stdout",
     "output_type": "stream",
     "text": [
      "[['purp', 'le'], ['p', 'ur', 'p', 'le']]\n",
      "[['abc', 'def'], ['ab', 'c', 'def'], ['abcd', 'ef'], ['ab', 'cd', 'ef']]\n",
      "[]\n",
      "[]\n"
     ]
    }
   ],
   "source": [
    "### Tabulation\n",
    "\n",
    "def allConstruct(target, wordBank):\n",
    "    #print(len(target))\n",
    "    table = [None] * (len(target) + 1)\n",
    "    #print(len(table))W\n",
    "    #for i in range(0, len(target) + 1):\n",
    "    #    table[i] = [[]]\n",
    "    table[0] = [[]]\n",
    "    for i in range(1, len(target) + 1):\n",
    "        table[i] = []\n",
    "    for i in range(0, len(target) + 1):\n",
    "        for word in wordBank:\n",
    "            if target[i : i + len(word)] == word:\n",
    "                currentCombinations = table[i + len(word)]\n",
    "                newCombinations = []\n",
    "                for current in table[i]:\n",
    "                    tmp = current.copy()\n",
    "                    tmp.append(word)\n",
    "                    newCombinations.append(tmp)\n",
    "                if table[i + len(word)] is None:\n",
    "                    table[i + len(word)] = newCombinations\n",
    "                else:\n",
    "                    entry = table[i + len(word)]\n",
    "                    for c in newCombinations:\n",
    "                       entry.append(c) \n",
    "    return table[len(target)]\n",
    "\n",
    "print(allConstruct(\"purple\", [\"purp\", \"p\", \"ur\", \"le\", \"purpl\"]))\n",
    "    # purp, le\n",
    "    # p, ur, p, le\n",
    "print(allConstruct(\"abcdef\", [\"ab\", \"abc\", \"cd\", \"def\", \"abcd\", \"ef\", \"c\"]))\n",
    "    # ab, cd, ef\n",
    "    # ab, c, def\n",
    "    # abc, def\n",
    "    # abcd, ef\n",
    "print(allConstruct(\"skateboard\", [\"bo\", \"rd\", \"ate\", \"t\", \"ska\", \"sk\", \"boar\"])) # []\n",
    "print(allConstruct(\"aaaaaaaaaaz\", [\"a\", \"aa\", \"aaa\", \"aaaa\", \"aaaaa\"])) # []\n",
    "# slow!\n",
    "#print(allConstruct(\"aaaaaaaaaaaaaaaaaaaaaz\", [\"a\", \"aa\", \"aaa\", \"aaaa\", \"aaaaa\"])) # []"
   ]
  }
 ],
 "metadata": {
  "kernelspec": {
   "display_name": "Python 3 (ipykernel)",
   "language": "python",
   "name": "python3"
  },
  "language_info": {
   "codemirror_mode": {
    "name": "ipython",
    "version": 3
   },
   "file_extension": ".py",
   "mimetype": "text/x-python",
   "name": "python",
   "nbconvert_exporter": "python",
   "pygments_lexer": "ipython3",
   "version": "3.10.5"
  }
 },
 "nbformat": 4,
 "nbformat_minor": 5
}
