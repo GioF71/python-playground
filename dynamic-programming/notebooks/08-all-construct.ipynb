{
 "cells": [
  {
   "cell_type": "code",
   "execution_count": 1,
   "id": "fd9d0691",
   "metadata": {},
   "outputs": [
    {
     "name": "stdout",
     "output_type": "stream",
     "text": [
      "[['purp', 'le'], ['p', 'ur', 'p', 'le']]\n",
      "[['ab', 'cd', 'ef'], ['ab', 'c', 'def'], ['abc', 'def'], ['abcd', 'ef']]\n",
      "[]\n"
     ]
    }
   ],
   "source": [
    "def allConstruct(target, wordBank):\n",
    "    if len(target) == 0: return [[]]\n",
    "    \n",
    "    result = []\n",
    "    \n",
    "    for word in wordBank:\n",
    "        if target.startswith(word):\n",
    "            suffix = target[len(word):]\n",
    "            suffixWays = allConstruct(suffix, wordBank)\n",
    "            \n",
    "            for sw in suffixWays:\n",
    "                partial = sw.copy()\n",
    "                partial.insert(0, word)\n",
    "                result.append(partial)\n",
    "    \n",
    "    return result\n",
    "\n",
    "print(allConstruct(\"purple\", [\"purp\", \"p\", \"ur\", \"le\", \"purpl\"]))\n",
    "    # purp, le\n",
    "    # p, ur, p, le\n",
    "print(allConstruct(\"abcdef\", [\"ab\", \"abc\", \"cd\", \"def\", \"abcd\", \"ef\", \"c\"]))\n",
    "    # ab, cd, ef\n",
    "    # ab, c, def\n",
    "    # abc, def\n",
    "    # abcd, ef\n",
    "print(allConstruct(\"skateboard\", [\"bo\", \"rd\", \"ate\", \"t\", \"ska\", \"sk\", \"boar\"])) # []\n",
    "# too slow\n",
    "#print(allConstruct(\"aaaaaaaaaaaaaaaaaaaaazzzzzz\", [\"a\", \"aa\", \"aaa\", \"aaaa\", \"aaaaa\"])) # []"
   ]
  },
  {
   "cell_type": "code",
   "execution_count": 2,
   "id": "32c57361",
   "metadata": {},
   "outputs": [
    {
     "name": "stdout",
     "output_type": "stream",
     "text": [
      "[['purp', 'le'], ['p', 'ur', 'p', 'le']]\n",
      "[['ab', 'cd', 'ef'], ['ab', 'c', 'def'], ['abc', 'def'], ['abcd', 'ef']]\n",
      "[]\n",
      "[]\n"
     ]
    }
   ],
   "source": [
    "### memoize it!\n",
    "\n",
    "def allConstruct(target, wordBank, memo = None):\n",
    "    if len(target) == 0: return [[]]\n",
    "    \n",
    "    if memo is None: memo = {}\n",
    "    if target in memo: return memo[target]\n",
    "    result = []\n",
    "    \n",
    "    for word in wordBank:\n",
    "        if target.startswith(word):\n",
    "            suffix = target[len(word):]\n",
    "            suffixWays = allConstruct(suffix, wordBank, memo)\n",
    "            \n",
    "            for sw in suffixWays:\n",
    "                partial = sw.copy()\n",
    "                partial.insert(0, word)\n",
    "                result.append(partial)\n",
    "    \n",
    "    memo[target] = result\n",
    "    return result\n",
    "\n",
    "print(allConstruct(\"purple\", [\"purp\", \"p\", \"ur\", \"le\", \"purpl\"]))\n",
    "    # purp, le\n",
    "    # p, ur, p, le\n",
    "print(allConstruct(\"abcdef\", [\"ab\", \"abc\", \"cd\", \"def\", \"abcd\", \"ef\", \"c\"]))\n",
    "    # ab, cd, ef\n",
    "    # ab, c, def\n",
    "    # abc, def\n",
    "    # abcd, ef\n",
    "print(allConstruct(\"skateboard\", [\"bo\", \"rd\", \"ate\", \"t\", \"ska\", \"sk\", \"boar\"])) # []\n",
    "# not too slow now\n",
    "print(allConstruct(\"aaaaaaaaaaaaaaaaaaaaazzzzzz\", [\"a\", \"aa\", \"aaa\", \"aaaa\", \"aaaaa\"])) # []"
   ]
  }
 ],
 "metadata": {
  "kernelspec": {
   "display_name": "Python 3 (ipykernel)",
   "language": "python",
   "name": "python3"
  },
  "language_info": {
   "codemirror_mode": {
    "name": "ipython",
    "version": 3
   },
   "file_extension": ".py",
   "mimetype": "text/x-python",
   "name": "python",
   "nbconvert_exporter": "python",
   "pygments_lexer": "ipython3",
   "version": "3.10.5"
  }
 },
 "nbformat": 4,
 "nbformat_minor": 5
}
