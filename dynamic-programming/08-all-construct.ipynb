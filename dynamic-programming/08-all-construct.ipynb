{
 "cells": [
  {
   "cell_type": "code",
   "execution_count": 35,
   "id": "fd9d0691",
   "metadata": {},
   "outputs": [
    {
     "name": "stdout",
     "output_type": "stream",
     "text": [
      "[['purp', 'le'], ['p', 'ur', 'p', 'le']]\n"
     ]
    }
   ],
   "source": [
    "def allConstruct(target, wordBank):\n",
    "    if len(target) == 0: return [[]]\n",
    "    \n",
    "    result = []\n",
    "    \n",
    "    for word in wordBank:\n",
    "        if target.startswith(word):\n",
    "            suffix = target[len(word):]\n",
    "            suffixWays = allConstruct(suffix, wordBank)\n",
    "            \n",
    "            for sw in suffixWays:\n",
    "                partial = sw.copy()\n",
    "                partial.insert(0, word)\n",
    "                if len(partial) > 0:\n",
    "                    result.append(partial)\n",
    "    \n",
    "    return result\n",
    "\n",
    "print(allConstruct(\"purple\", [\"purp\", \"p\", \"ur\", \"le\", \"purpl\"]))"
   ]
  },
  {
   "cell_type": "code",
   "execution_count": null,
   "id": "32c57361",
   "metadata": {},
   "outputs": [],
   "source": [
    "### to be memoized..."
   ]
  },
  {
   "cell_type": "code",
   "execution_count": null,
   "id": "03155f68",
   "metadata": {},
   "outputs": [],
   "source": []
  },
  {
   "cell_type": "code",
   "execution_count": null,
   "id": "57b3be53",
   "metadata": {},
   "outputs": [],
   "source": []
  }
 ],
 "metadata": {
  "kernelspec": {
   "display_name": "Python 3 (ipykernel)",
   "language": "python",
   "name": "python3"
  },
  "language_info": {
   "codemirror_mode": {
    "name": "ipython",
    "version": 3
   },
   "file_extension": ".py",
   "mimetype": "text/x-python",
   "name": "python",
   "nbconvert_exporter": "python",
   "pygments_lexer": "ipython3",
   "version": "3.10.5"
  }
 },
 "nbformat": 4,
 "nbformat_minor": 5
}
