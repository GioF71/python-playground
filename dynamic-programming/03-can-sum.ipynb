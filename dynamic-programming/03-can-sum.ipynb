{
 "cells": [
  {
   "cell_type": "code",
   "execution_count": 1,
   "id": "42461ba5",
   "metadata": {},
   "outputs": [
    {
     "name": "stdout",
     "output_type": "stream",
     "text": [
      "True\n",
      "True\n",
      "False\n",
      "True\n"
     ]
    }
   ],
   "source": [
    "def canSum(targetSum, numbers):\n",
    "    if (targetSum == 0): return True\n",
    "    if (targetSum < 0): return False\n",
    "    for num in numbers:\n",
    "        remainder = targetSum - num\n",
    "        if canSum(remainder, numbers) == True:\n",
    "            return True\n",
    "    return False\n",
    "    \n",
    "print(canSum(7, [2, 3]))  # True\n",
    "print(canSum(7, [5, 3, 4, 7]))  # True\n",
    "print(canSum(7, [2, 4]))  # False\n",
    "print(canSum(8, [2, 3, 5]))  # True\n",
    "\n",
    "# too slow\n",
    "# print(canSum(300, [7, 14]))  # False"
   ]
  },
  {
   "cell_type": "code",
   "execution_count": 2,
   "id": "1aa0d3bd",
   "metadata": {},
   "outputs": [
    {
     "name": "stdout",
     "output_type": "stream",
     "text": [
      "True\n",
      "True\n",
      "False\n",
      "True\n",
      "False\n"
     ]
    }
   ],
   "source": [
    "### memoize it!\n",
    "\n",
    "def canSum(targetSum, numbers, memo = None):\n",
    "    if (targetSum == 0): return True\n",
    "    if (targetSum < 0): return False\n",
    "    if memo == None: memo = {}\n",
    "    if (targetSum in memo): return memo[targetSum]\n",
    "    \n",
    "    for num in numbers:\n",
    "        remainder = targetSum - num\n",
    "        if canSum(remainder, numbers, memo) == True:\n",
    "            memo[targetSum] = True\n",
    "            return True\n",
    "        \n",
    "    memo[targetSum] = False\n",
    "    return False\n",
    "    \n",
    "print(canSum(7, [2, 3]))  # True\n",
    "print(canSum(7, [5, 3, 4, 7]))  # True\n",
    "print(canSum(7, [2, 4]))  # False\n",
    "print(canSum(8, [2, 3, 5]))  # True\n",
    "\n",
    "# not too slow now\n",
    "print(canSum(300, [7, 14]))  # False"
   ]
  }
 ],
 "metadata": {
  "kernelspec": {
   "display_name": "Python 3 (ipykernel)",
   "language": "python",
   "name": "python3"
  },
  "language_info": {
   "codemirror_mode": {
    "name": "ipython",
    "version": 3
   },
   "file_extension": ".py",
   "mimetype": "text/x-python",
   "name": "python",
   "nbconvert_exporter": "python",
   "pygments_lexer": "ipython3",
   "version": "3.10.5"
  }
 },
 "nbformat": 4,
 "nbformat_minor": 5
}
