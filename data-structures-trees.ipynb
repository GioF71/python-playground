{
 "cells": [
  {
   "cell_type": "code",
   "execution_count": 42,
   "metadata": {},
   "outputs": [],
   "source": [
    "from tree import Node\n",
    "from tree import Tree\n"
   ]
  },
  {
   "cell_type": "code",
   "execution_count": 43,
   "metadata": {},
   "outputs": [
    {
     "name": "stdout",
     "output_type": "stream",
     "text": [
      "hello\n"
     ]
    }
   ],
   "source": [
    "node = Node(\"hello\")\n",
    "\n",
    "print(node.data)"
   ]
  },
  {
   "cell_type": "markdown",
   "metadata": {},
   "source": [
    "# Creating our first nodes\n",
    "\n",
    "Node with value `10` is the root node.  \n",
    "We attach `5` to left and `15` to the right.  \n",
    "We attach `2` to the left of `5` and `6` to the right of `5`.  \n",
    "We attach `13` to the left of `15` and `10000` to the right of `15`.  \n",
    "The tree is printed for verification.  \n"
   ]
  },
  {
   "cell_type": "code",
   "execution_count": 44,
   "metadata": {},
   "outputs": [
    {
     "name": "stdout",
     "output_type": "stream",
     "text": [
      "The whole tree \n",
      "      10  \n",
      "   /     \\\n",
      "  5       15      \n",
      " / \\     / \\\n",
      "2   6   13  10000\n",
      "\n",
      "Subtree: Fifteen \n",
      "  15  \n",
      " / \\\n",
      "13  10000\n",
      "\n",
      "Subtree: Five \n",
      "  5   \n",
      " / \\\n",
      "2   6   \n",
      "\n"
     ]
    }
   ],
   "source": [
    "node = Node(10)\n",
    "\n",
    "node.left = Node(5)\n",
    "node.right = Node(15)\n",
    "\n",
    "node.left.left = Node(2)\n",
    "node.left.right = Node(6)\n",
    "\n",
    "node.right.left = Node(13)\n",
    "node.right.right = Node(10000)\n",
    "\n",
    "# from here on, we use the print functionality from the complete class  \n",
    "# so we verify that the tree looks like expected\n",
    "tree = Tree(node, \"The whole tree\")\n",
    "tree.print()\n",
    "\n",
    "fifteen = Tree(node.right, \"Subtree: Fifteen\")\n",
    "fifteen.print()\n",
    "\n",
    "five = Tree(node.left, \"Subtree: Five\")\n",
    "five.print()"
   ]
  },
  {
   "cell_type": "markdown",
   "metadata": {},
   "source": [
    "# Search\n",
    "\n",
    "We build a tree and try to find a specific entry.  \n",
    "The code is replicated in this notebook for reference (local_function).  \n",
    "The reference function is also used as comparison.  \n",
    "We also try to look for a non existing entry, using local_function.  "
   ]
  },
  {
   "cell_type": "code",
   "execution_count": 67,
   "metadata": {},
   "outputs": [
    {
     "name": "stdout",
     "output_type": "stream",
     "text": [
      "Sample tree, does it contain my entry? \n",
      "      10  \n",
      "   /     \\\n",
      "  5       15      \n",
      " / \\     / \\\n",
      "2   6   13  10000\n",
      "\n",
      "Using full library\n",
      "Found it!\n",
      "Found 10000 (using reference library)\n",
      "Found 10000 (using local_function)\n",
      "Target 54 not Found (using local_function)\n"
     ]
    }
   ],
   "source": [
    "# search is implemented using recursion\n",
    "#\n",
    "# return the node when data == target, or\n",
    "#   search left if left exists and current data is > target\n",
    "#   search right if right exists and current data is < target\n",
    "\n",
    "def search_node(node, target):\n",
    "    if node.data == target:\n",
    "        # found!\n",
    "        return node\n",
    "    if node.left and node.data > target:\n",
    "        return search_node(node.left, target)\n",
    "    if node.right and node.data < target:\n",
    "        return search_node(node.right, target)\n",
    "    return None\n",
    "\n",
    "def print_search_result(node, target, method):\n",
    "    result = search_node(node, target)\n",
    "    print(\"Found {} (using {})\".format(result.data, method) if result \n",
    "        else \"Target {} not Found (using {})\".format(target, method))\n",
    "\n",
    "node = Node(10)\n",
    "\n",
    "node.left = Node(5)\n",
    "node.right = Node(15)\n",
    "\n",
    "node.left.left = Node(2)\n",
    "node.left.right = Node(6)\n",
    "\n",
    "node.right.left = Node(13)\n",
    "node.right.right = Node(10000)\n",
    "\n",
    "myTree = Tree(node, \"Sample tree, does it contain my entry?\")\n",
    "myTree.print()\n",
    "\n",
    "# Using the function in the complete class:\n",
    "print(\"Using full library\")\n",
    "found10k = node.search(10000)\n",
    "print(\"Found {} (using reference library)\".format(found10k.data) if found10k else \"Not Found (using reference library\")\n",
    "\n",
    "# search existing value with local function\n",
    "print_search_result(node, 10000, \"local_function\")\n",
    "\n",
    "# try to look for non-existing value with local function\n",
    "print_search_result(node, 54, \"local_function\")\n"
   ]
  }
 ],
 "metadata": {
  "kernelspec": {
   "display_name": "Python 3.10.5 64-bit",
   "language": "python",
   "name": "python3"
  },
  "language_info": {
   "codemirror_mode": {
    "name": "ipython",
    "version": 3
   },
   "file_extension": ".py",
   "mimetype": "text/x-python",
   "name": "python",
   "nbconvert_exporter": "python",
   "pygments_lexer": "ipython3",
   "version": "3.10.5"
  },
  "orig_nbformat": 4,
  "vscode": {
   "interpreter": {
    "hash": "e7370f93d1d0cde622a1f8e1c04877d8463912d04d973331ad4851f04de6915a"
   }
  }
 },
 "nbformat": 4,
 "nbformat_minor": 2
}
