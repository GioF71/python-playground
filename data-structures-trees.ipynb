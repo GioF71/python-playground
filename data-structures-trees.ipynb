{
 "cells": [
  {
   "cell_type": "markdown",
   "metadata": {},
   "source": [
    "# Credit\n",
    "\n",
    "This notebook is inspired from this repo: [Python data structures: Trees](https://github.com/LinkedInLearning/python-data-structures-trees-2834010) by [Ryan Mitchell](https://github.com/REMitchell).  \n",
    "Watching actively the real course on LinkedIn Learning is highly recommended. These are simply my notes and exercises.\n"
   ]
  },
  {
   "cell_type": "markdown",
   "metadata": {},
   "source": [
    "# Creating our first nodes\n",
    "\n",
    "Node with value `10` is the root node.  \n",
    "We attach `5` to left and `15` to the right.  \n",
    "We attach `2` to the left of `5` and `6` to the right of `5`.  \n",
    "We attach `13` to the left of `15` and `10000` to the right of `15`.  \n",
    "The tree is printed for verification.  \n"
   ]
  },
  {
   "cell_type": "code",
   "execution_count": 12,
   "metadata": {},
   "outputs": [
    {
     "name": "stdout",
     "output_type": "stream",
     "text": [
      "The whole tree \n",
      "      10  \n",
      "   /     \\\n",
      "  5       15      \n",
      " / \\     / \\\n",
      "2   6   13  10000\n",
      "\n",
      "Subtree: Fifteen \n",
      "  15  \n",
      " / \\\n",
      "13  10000\n",
      "\n",
      "Subtree: Five \n",
      "  5   \n",
      " / \\\n",
      "2   6   \n",
      "\n"
     ]
    }
   ],
   "source": [
    "from tree import Node\n",
    "from tree import Tree\n",
    "\n",
    "node = Node(10)\n",
    "\n",
    "node.left = Node(5)\n",
    "node.right = Node(15)\n",
    "\n",
    "node.left.left = Node(2)\n",
    "node.left.right = Node(6)\n",
    "\n",
    "node.right.left = Node(13)\n",
    "node.right.right = Node(10000)\n",
    "\n",
    "# from here on, we use the print functionality from the complete class  \n",
    "# so we verify that the tree looks like expected\n",
    "tree = Tree(node, \"The whole tree\")\n",
    "tree.print()\n",
    "\n",
    "fifteen = Tree(node.right, \"Subtree: Fifteen\")\n",
    "fifteen.print()\n",
    "\n",
    "five = Tree(node.left, \"Subtree: Five\")\n",
    "five.print()"
   ]
  },
  {
   "cell_type": "markdown",
   "metadata": {},
   "source": [
    "# Search\n",
    "\n",
    "We build a tree and try to find a specific entry.  \n",
    "The code is replicated in this notebook for reference (local_function).  \n",
    "The reference function is also used as comparison.  \n",
    "We also try to look for a non existing entry, using local_function.  "
   ]
  },
  {
   "cell_type": "code",
   "execution_count": 2,
   "metadata": {},
   "outputs": [
    {
     "name": "stdout",
     "output_type": "stream",
     "text": [
      "Sample tree, does it contain my entry? \n",
      "      10  \n",
      "   /     \\\n",
      "  5       15      \n",
      " / \\     / \\\n",
      "2   6   13  10000\n",
      "\n",
      "Using full library\n",
      "Found it!\n",
      "Found 10000 (using reference library)\n",
      "Found 10000 (using local_function)\n",
      "Target 54 not Found (using local_function)\n"
     ]
    }
   ],
   "source": [
    "from tree import Node\n",
    "from tree import Tree\n",
    "\n",
    "# search is implemented using recursion\n",
    "#\n",
    "# return the node when data == target, or\n",
    "#   search left if left exists and current data is > target, or\n",
    "#   search right if right exists and current data is < target, or\n",
    "#   return None\n",
    "\n",
    "def search_node(node, target):\n",
    "    if node.data == target:\n",
    "        # found!\n",
    "        return node\n",
    "    if node.left and node.data > target:\n",
    "        return search_node(node.left, target)\n",
    "    if node.right and node.data < target:\n",
    "        return search_node(node.right, target)\n",
    "    return None\n",
    "\n",
    "def print_search_result(node, target, method):\n",
    "    result = search_node(node, target)\n",
    "    print(\"Found {} (using {})\".format(result.data, method) if result \n",
    "        else \"Target {} not Found (using {})\".format(target, method))\n",
    "\n",
    "node = Node(10)\n",
    "\n",
    "node.left = Node(5)\n",
    "node.right = Node(15)\n",
    "\n",
    "node.left.left = Node(2)\n",
    "node.left.right = Node(6)\n",
    "\n",
    "node.right.left = Node(13)\n",
    "node.right.right = Node(10000)\n",
    "\n",
    "myTree = Tree(node, \"Sample tree, does it contain my entry?\")\n",
    "myTree.print()\n",
    "\n",
    "# Using the function in the complete class:\n",
    "print(\"Using full library\")\n",
    "found10k = node.search(10000)\n",
    "print(\"Found {} (using reference library)\".format(found10k.data) if found10k else \"Not Found (using reference library\")\n",
    "\n",
    "# search existing value with local function\n",
    "print_search_result(node, 10000, \"local_function\")\n",
    "\n",
    "# try to look for non-existing value with local function\n",
    "print_search_result(node, 54, \"local_function\")\n"
   ]
  },
  {
   "cell_type": "markdown",
   "metadata": {},
   "source": [
    "# Traverse\n",
    "\n",
    "Traverse inOrder, preOrder, postOrder.  \n",
    "We use a TraverseCollector class to collect the encountered entries.  \n",
    "A TraversalExecutor class offers a static \"execute\" method which accepts the traverse function and a label.  \n",
    "All the results are printed out in individual rows."
   ]
  },
  {
   "cell_type": "code",
   "execution_count": 44,
   "metadata": {},
   "outputs": [
    {
     "name": "stdout",
     "output_type": "stream",
     "text": [
      "inOrder: 2, 13, 20, 25, 35, 37, 50, 55, 75, 103, 256\n",
      "preOrder: 50, 25, 13, 2, 20, 35, 37, 75, 55, 103, 256\n",
      "postOrder: 2, 20, 13, 37, 35, 25, 55, 256, 103, 75, 50\n"
     ]
    }
   ],
   "source": [
    "from tree import Node\n",
    "from tree import Tree\n",
    "\n",
    "class TraverseCollector():\n",
    "    \n",
    "    def __init__(self):\n",
    "        self._list = []\n",
    "        \n",
    "    def collect(self, data):\n",
    "        self._list.append(data)\n",
    "        \n",
    "    def getList(self):\n",
    "        return self._list.copy()\n",
    "\n",
    "class TraversalExecutor():\n",
    "    \n",
    "    def __init__(self, traverseFunction, collector):\n",
    "        self._collector = collector\n",
    "        self._traverseFunction = traverseFunction\n",
    "        \n",
    "    def _traverse(self, node, label):\n",
    "        # traverse the node collecting data\n",
    "        self._traverseFunction(node, self._collector)\n",
    "        # create the list of collected entries\n",
    "        str_list = [str(x) for x in self._collector.getList()]\n",
    "        # create a row with values separated by commas\n",
    "        output = \", \".join(str_list)\n",
    "        # finally print\n",
    "        print(\"{}: {}\".format(label, output))\n",
    "        \n",
    "    # unique entrypoint\n",
    "    def execute(node, traverseFunction, label):\n",
    "        executor = TraversalExecutor(traverseFunction, TraverseCollector())\n",
    "        executor._traverse(node, label)\n",
    "        \n",
    "def traverseInOrder(node, collector):\n",
    "    if node.left:\n",
    "        traverseInOrder(node.left, collector)\n",
    "    collector.collect(node.data)\n",
    "    if node.right:\n",
    "        traverseInOrder(node.right, collector)\n",
    "\n",
    "def traversePreOrder(node, collector):\n",
    "    collector.collect(node.data)\n",
    "    if node.left:\n",
    "        traversePreOrder(node.left, collector)\n",
    "    if node.right:\n",
    "        traversePreOrder(node.right, collector)\n",
    "\n",
    "def traversePostOrder(node, collector):\n",
    "    if node.left:\n",
    "        traversePostOrder(node.left, collector)\n",
    "    if node.right:\n",
    "        traversePostOrder(node.right, collector)\n",
    "    collector.collect(node.data)\n",
    "\n",
    "# build a sample tree\n",
    "tree = Tree(Node(50))\n",
    "tree.root.left = Node(25)\n",
    "tree.root.right = Node(75)\n",
    "tree.root.left.left = Node(13)\n",
    "tree.root.left.right = Node(35)\n",
    "tree.root.left.right.right = Node(37)\n",
    "tree.root.right.left = Node(55)\n",
    "tree.root.right.right = Node(103)\n",
    "tree.root.left.left.left = Node(2)\n",
    "tree.root.left.left.right = Node(20)\n",
    "tree.root.right.left = Node(55)\n",
    "tree.root.right.right.right = Node(256)\n",
    "\n",
    "TraversalExecutor.execute(tree.root, traverseInOrder, \"inOrder\")\n",
    "TraversalExecutor.execute(tree.root, traversePreOrder, \"preOrder\")\n",
    "TraversalExecutor.execute(tree.root, traversePostOrder, \"postOrder\")"
   ]
  },
  {
   "cell_type": "code",
   "execution_count": null,
   "metadata": {},
   "outputs": [],
   "source": []
  }
 ],
 "metadata": {
  "kernelspec": {
   "display_name": "Python 3 (ipykernel)",
   "language": "python",
   "name": "python3"
  },
  "language_info": {
   "codemirror_mode": {
    "name": "ipython",
    "version": 3
   },
   "file_extension": ".py",
   "mimetype": "text/x-python",
   "name": "python",
   "nbconvert_exporter": "python",
   "pygments_lexer": "ipython3",
   "version": "3.10.5"
  },
  "vscode": {
   "interpreter": {
    "hash": "e7370f93d1d0cde622a1f8e1c04877d8463912d04d973331ad4851f04de6915a"
   }
  }
 },
 "nbformat": 4,
 "nbformat_minor": 2
}
