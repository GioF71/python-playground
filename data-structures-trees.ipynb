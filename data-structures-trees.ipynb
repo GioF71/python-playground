{
 "cells": [
  {
   "cell_type": "code",
   "execution_count": 28,
   "metadata": {},
   "outputs": [],
   "source": [
    "from tree import Node\n",
    "from tree import Tree\n"
   ]
  },
  {
   "cell_type": "code",
   "execution_count": 29,
   "metadata": {},
   "outputs": [
    {
     "name": "stdout",
     "output_type": "stream",
     "text": [
      "hello\n"
     ]
    }
   ],
   "source": [
    "node = Node(\"hello\")\n",
    "\n",
    "print(node.data)"
   ]
  },
  {
   "cell_type": "markdown",
   "metadata": {},
   "source": [
    "# Creating our first nodes\n",
    "\n",
    "Node with value `10` is the root node.  \n",
    "We attach `5` to left and `15` to the right.  \n",
    "We attach `2` to the left of `5` and `6` to the right of `5`.  \n",
    "We attach `13` to the left of `15` and `10000` to the right of `15`.  \n",
    "The tree is printed for verification.  \n"
   ]
  },
  {
   "cell_type": "code",
   "execution_count": 30,
   "metadata": {},
   "outputs": [
    {
     "name": "stdout",
     "output_type": "stream",
     "text": [
      "The whole tree \n",
      "      10  \n",
      "   /     \\\n",
      "  5       15      \n",
      " / \\     / \\\n",
      "2   6   13  10000\n",
      "\n",
      "Subtree: Fifteen \n",
      "  15  \n",
      " / \\\n",
      "13  10000\n",
      "\n",
      "Subtree: Five \n",
      "  5   \n",
      " / \\\n",
      "2   6   \n",
      "\n"
     ]
    }
   ],
   "source": [
    "node = Node(10)\n",
    "\n",
    "node.left = Node(5)\n",
    "node.right = Node(15)\n",
    "\n",
    "node.left.left = Node(2)\n",
    "node.left.right = Node(6)\n",
    "\n",
    "node.right.left = Node(13)\n",
    "node.right.right = Node(10000)\n",
    "\n",
    "# from here on, we use the print functionality from the complete class  \n",
    "# so we verify that the three looks like expected\n",
    "tree = Tree(node, \"The whole tree\")\n",
    "tree.print()\n",
    "\n",
    "fifteen = Tree(node.right, \"Subtree: Fifteen\")\n",
    "fifteen.print()\n",
    "\n",
    "five = Tree(node.left, \"Subtree: Five\")\n",
    "five.print()"
   ]
  }
 ],
 "metadata": {
  "kernelspec": {
   "display_name": "Python 3.10.5 64-bit",
   "language": "python",
   "name": "python3"
  },
  "language_info": {
   "codemirror_mode": {
    "name": "ipython",
    "version": 3
   },
   "file_extension": ".py",
   "mimetype": "text/x-python",
   "name": "python",
   "nbconvert_exporter": "python",
   "pygments_lexer": "ipython3",
   "version": "3.10.5"
  },
  "orig_nbformat": 4,
  "vscode": {
   "interpreter": {
    "hash": "e7370f93d1d0cde622a1f8e1c04877d8463912d04d973331ad4851f04de6915a"
   }
  }
 },
 "nbformat": 4,
 "nbformat_minor": 2
}
