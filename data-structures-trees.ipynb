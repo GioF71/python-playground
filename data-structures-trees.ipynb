{
 "cells": [
  {
   "cell_type": "markdown",
   "metadata": {},
   "source": [
    "# Credit\n",
    "\n",
    "This notebook is inspired from the repository [Python data structures: Trees](https://github.com/LinkedInLearning/python-data-structures-trees-2834010) by [Ryan Mitchell](https://github.com/REMitchell).  \n",
    "Watching actively the real course on LinkedIn Learning is highly recommended.  \n",
    "These are simply my notes and exercises."
   ]
  },
  {
   "cell_type": "markdown",
   "metadata": {},
   "source": [
    "# Creating our first nodes\n",
    "\n",
    "Node with value `10` is the root node.  \n",
    "We attach `5` to left and `15` to the right.  \n",
    "We attach `2` to the left of `5` and `6` to the right of `5`.  \n",
    "We attach `13` to the left of `15` and `10000` to the right of `15`.  \n",
    "The tree is printed for verification.  \n"
   ]
  },
  {
   "cell_type": "code",
   "execution_count": 2,
   "metadata": {},
   "outputs": [
    {
     "name": "stdout",
     "output_type": "stream",
     "text": [
      "The whole tree \n",
      "      10  \n",
      "   /     \\\n",
      "  5       15      \n",
      " / \\     / \\\n",
      "2   6   13  10000\n",
      "\n",
      "Subtree: Fifteen \n",
      "  15  \n",
      " / \\\n",
      "13  10000\n",
      "\n",
      "Subtree: Five \n",
      "  5   \n",
      " / \\\n",
      "2   6   \n",
      "\n"
     ]
    }
   ],
   "source": [
    "from tree import Node\n",
    "from tree import Tree\n",
    "\n",
    "node = Node(10)\n",
    "\n",
    "node.left = Node(5)\n",
    "node.right = Node(15)\n",
    "\n",
    "node.left.left = Node(2)\n",
    "node.left.right = Node(6)\n",
    "\n",
    "node.right.left = Node(13)\n",
    "node.right.right = Node(10000)\n",
    "\n",
    "# from here on, we use the print functionality from the complete class  \n",
    "# so we verify that the tree looks like expected\n",
    "tree = Tree(node, \"The whole tree\")\n",
    "tree.print()\n",
    "\n",
    "fifteen = Tree(node.right, \"Subtree: Fifteen\")\n",
    "fifteen.print()\n",
    "\n",
    "five = Tree(node.left, \"Subtree: Five\")\n",
    "five.print()"
   ]
  },
  {
   "cell_type": "markdown",
   "metadata": {},
   "source": [
    "# Search\n",
    "\n",
    "We build a tree and try to find a specific entry.  \n",
    "The code is replicated in this notebook for reference (local_function).  \n",
    "The reference function is also used as comparison.  \n",
    "We also try to look for a non existing entry, using local_function.  "
   ]
  },
  {
   "cell_type": "code",
   "execution_count": 3,
   "metadata": {},
   "outputs": [
    {
     "name": "stdout",
     "output_type": "stream",
     "text": [
      "Sample tree, does it contain my entry? \n",
      "      10  \n",
      "   /     \\\n",
      "  5       15      \n",
      " / \\     / \\\n",
      "2   6   13  10000\n",
      "\n",
      "Using full library\n",
      "Found it!\n",
      "Found 10000 (using reference library)\n",
      "Found 10000 (using local_function)\n",
      "Target 54 not Found (using local_function)\n"
     ]
    }
   ],
   "source": [
    "from tree import Node\n",
    "from tree import Tree\n",
    "\n",
    "# search is implemented using recursion\n",
    "#\n",
    "# return the node when data == target, or\n",
    "#   search left if left exists and current data is > target, or\n",
    "#   search right if right exists and current data is < target, or\n",
    "#   return None\n",
    "\n",
    "def search_node(node, target):\n",
    "    if node.data == target:\n",
    "        # found!\n",
    "        return node\n",
    "    if node.left and node.data > target:\n",
    "        return search_node(node.left, target)\n",
    "    if node.right and node.data < target:\n",
    "        return search_node(node.right, target)\n",
    "    return None\n",
    "\n",
    "def print_search_result(node, target, method):\n",
    "    result = search_node(node, target)\n",
    "    print(\"Found {} (using {})\".format(result.data, method) if result \n",
    "        else \"Target {} not Found (using {})\".format(target, method))\n",
    "\n",
    "node = Node(10)\n",
    "\n",
    "node.left = Node(5)\n",
    "node.right = Node(15)\n",
    "\n",
    "node.left.left = Node(2)\n",
    "node.left.right = Node(6)\n",
    "\n",
    "node.right.left = Node(13)\n",
    "node.right.right = Node(10000)\n",
    "\n",
    "myTree = Tree(node, \"Sample tree, does it contain my entry?\")\n",
    "myTree.print()\n",
    "\n",
    "# Using the function in the complete class:\n",
    "print(\"Using full library\")\n",
    "found10k = node.search(10000)\n",
    "print(\"Found {} (using reference library)\".format(found10k.data) if found10k else \"Not Found (using reference library\")\n",
    "\n",
    "# search existing value with local function\n",
    "print_search_result(node, 10000, \"local_function\")\n",
    "\n",
    "# try to look for non-existing value with local function\n",
    "print_search_result(node, 54, \"local_function\")\n"
   ]
  },
  {
   "cell_type": "markdown",
   "metadata": {},
   "source": [
    "# Traverse\n",
    "\n",
    "Traverse inOrder, preOrder, postOrder.  \n",
    "We use a TraverseCollector class to collect the encountered entries.  \n",
    "A TraversalExecutor class offers a static \"execute\" method which accepts the traverse function and a label.  \n",
    "All the results are printed out in individual rows."
   ]
  },
  {
   "cell_type": "code",
   "execution_count": 8,
   "metadata": {},
   "outputs": [
    {
     "name": "stdout",
     "output_type": "stream",
     "text": [
      "Tree Traversals \n",
      "              50* \n",
      "       /             \\\n",
      "      25              75              \n",
      "   /     \\         /     \\\n",
      "  10      35      _       _       \n",
      " / \\     / \\     / \\     / \\\n",
      "5   13  30  42  _   _   _   _   \n",
      "\n",
      "preOrder: 50, 25, 10, 5, 13, 35, 30, 42, 75\n",
      "inOrder: 5, 10, 13, 25, 30, 35, 42, 50, 75\n",
      "postOrder: 5, 13, 10, 30, 42, 35, 25, 75, 50\n"
     ]
    }
   ],
   "source": [
    "from tree import Node\n",
    "from tree import Tree\n",
    "\n",
    "class TraverseCollector():\n",
    "    \n",
    "    def __init__(self):\n",
    "        self._list = []\n",
    "        \n",
    "    def collect(self, data):\n",
    "        self._list.append(data)\n",
    "        \n",
    "    def getList(self):\n",
    "        return self._list.copy()\n",
    "\n",
    "class TraversalExecutor():\n",
    "    \n",
    "    def __init__(self, traverseFunction, collector):\n",
    "        self._traverseFunction = traverseFunction\n",
    "        self._collector = collector\n",
    "        \n",
    "    def _traverse(self, node, label):\n",
    "        # traverse the node collecting data\n",
    "        self._traverseFunction(node, self._collector)\n",
    "        # create the list of collected entries\n",
    "        str_list = [str(x) for x in self._collector.getList()]\n",
    "        # create a row with values separated by commas\n",
    "        output = \", \".join(str_list)\n",
    "        # finally print\n",
    "        print(\"{}: {}\".format(label, output))\n",
    "        \n",
    "    # unique entrypoint\n",
    "    def execute(node, traverseFunction, label):\n",
    "        executor = TraversalExecutor(traverseFunction, TraverseCollector())\n",
    "        executor._traverse(node, label)\n",
    "        \n",
    "def traverseInOrder(node, collector):\n",
    "    if node.left:\n",
    "        traverseInOrder(node.left, collector)\n",
    "    collector.collect(node.data)\n",
    "    if node.right:\n",
    "        traverseInOrder(node.right, collector)\n",
    "\n",
    "def traversePreOrder(node, collector):\n",
    "    collector.collect(node.data)\n",
    "    if node.left:\n",
    "        traversePreOrder(node.left, collector)\n",
    "    if node.right:\n",
    "        traversePreOrder(node.right, collector)\n",
    "\n",
    "def traversePostOrder(node, collector):\n",
    "    if node.left:\n",
    "        traversePostOrder(node.left, collector)\n",
    "    if node.right:\n",
    "        traversePostOrder(node.right, collector)\n",
    "    collector.collect(node.data)\n",
    "\n",
    "# build a sample tree\n",
    "tree = Tree(Node(50), \"Tree Traversals\")\n",
    "tree.root.left = Node(25)\n",
    "tree.root.right = Node(75)\n",
    "tree.root.left.left = Node(10)\n",
    "tree.root.left.right = Node(35)\n",
    "tree.root.left.right.left = Node(30)\n",
    "tree.root.left.right.right = Node(42)\n",
    "tree.root.left.left.left = Node(5)\n",
    "tree.root.left.left.right = Node(13)\n",
    "\n",
    "# print the tree as a visual cue\n",
    "tree.print()\n",
    "\n",
    "TraversalExecutor.execute(tree.root, traversePreOrder, \"preOrder\")\n",
    "TraversalExecutor.execute(tree.root, traverseInOrder, \"inOrder\")\n",
    "TraversalExecutor.execute(tree.root, traversePostOrder, \"postOrder\")"
   ]
  },
  {
   "cell_type": "markdown",
   "metadata": {},
   "source": [
    "# Tree height\n",
    "\n",
    "The tree height is important, as from this metric one can determine how many jumps will be needed (in the worst case) in order to reach an item.  \n",
    "Let's see how to calculate the tree height."
   ]
  },
  {
   "cell_type": "code",
   "execution_count": 13,
   "metadata": {},
   "outputs": [
    {
     "name": "stdout",
     "output_type": "stream",
     "text": [
      "Tree Traversals \n",
      "              50* \n",
      "       /             \\\n",
      "      25              75              \n",
      "   /     \\         /     \\\n",
      "  10      35      _       _       \n",
      " / \\     / \\     / \\     / \\\n",
      "5   13  30  42  _   _   _   _   \n",
      "\n",
      "Tree height is 3\n"
     ]
    }
   ],
   "source": [
    "from tree import Node\n",
    "from tree import Tree\n",
    "\n",
    "def height(node, h = 0):\n",
    "    leftHeight = height(node.left, h + 1) if node.left else h\n",
    "    rightHeight = height(node.right, h + 1) if node.right else h\n",
    "    return max(leftHeight, rightHeight)\n",
    "\n",
    "# build a sample tree\n",
    "tree = Tree(Node(50), \"Tree Traversals\")\n",
    "tree.root.left = Node(25)\n",
    "tree.root.right = Node(75)\n",
    "tree.root.left.left = Node(10)\n",
    "tree.root.left.right = Node(35)\n",
    "tree.root.left.right.left = Node(30)\n",
    "tree.root.left.right.right = Node(42)\n",
    "tree.root.left.left.left = Node(5)\n",
    "tree.root.left.left.right = Node(13)\n",
    "\n",
    "# print the tree as a visual cue\n",
    "tree.print()\n",
    "\n",
    "print(\"Tree height is {}\".format(height(tree.root)))"
   ]
  },
  {
   "cell_type": "markdown",
   "metadata": {},
   "source": [
    "# Enumerate nodes by depth\n",
    "\n",
    "See how we can enumerate nodes at every depth of a tree."
   ]
  },
  {
   "cell_type": "code",
   "execution_count": 56,
   "metadata": {},
   "outputs": [
    {
     "name": "stdout",
     "output_type": "stream",
     "text": [
      "Tree nodes at individual depths \n",
      "              50* \n",
      "       /             \\\n",
      "      25              75              \n",
      "   /     \\         /     \\\n",
      "  10      35      _       _       \n",
      " / \\     / \\     / \\     / \\\n",
      "5   13  30  42  _   _   _   _   \n",
      "\n",
      "Nodes at depth [0]: 50\n",
      "Nodes at depth [1]: 25, 75\n",
      "Nodes at depth [2]: 10, 35, None, None\n",
      "Nodes at depth [3]: 5, 13, 30, 42, None, None, None, None\n"
     ]
    }
   ],
   "source": [
    "from tree import Node\n",
    "from tree import Tree\n",
    "\n",
    "def height(node, h = 0):\n",
    "    leftHeight = height(node.left, h + 1) if node.left else h\n",
    "    rightHeight = height(node.right, h + 1) if node.right else h\n",
    "    return max(leftHeight, rightHeight)\n",
    "\n",
    "def __getNodesAtDepth(node, depth, nodes):\n",
    "    if depth == 0:\n",
    "        nodes.append(node)\n",
    "        return nodes\n",
    "    if node.left:\n",
    "        __getNodesAtDepth(node.left, depth - 1, nodes)\n",
    "    else:\n",
    "        nodes.extend([None] * 2 ** (depth - 1))\n",
    "    if node.right:\n",
    "        __getNodesAtDepth(node.right, depth - 1, nodes)\n",
    "    else:\n",
    "        nodes.extend([None] * 2 ** (depth - 1))\n",
    "    return nodes\n",
    "\n",
    "def getNodesAtDepth(node, depth):\n",
    "    return __getNodesAtDepth(node, depth, [])\n",
    "\n",
    "def node_array_to_str(nodeArray):\n",
    "    str_list = [str(node.data if node else None) for node in nodeArray]\n",
    "    # create a row with values separated by commas\n",
    "    return \", \".join(str_list)\n",
    "\n",
    "# build a sample tree\n",
    "tree = Tree(Node(50), \"Tree nodes at individual depths\")\n",
    "tree.root.left = Node(25)\n",
    "tree.root.right = Node(75)\n",
    "tree.root.left.left = Node(10)\n",
    "tree.root.left.right = Node(35)\n",
    "tree.root.left.right.left = Node(30)\n",
    "tree.root.left.right.right = Node(42)\n",
    "tree.root.left.left.left = Node(5)\n",
    "tree.root.left.left.right = Node(13)\n",
    "\n",
    "# print the tree as a visual cue\n",
    "tree.print()\n",
    "\n",
    "tree_heigth = height(tree.root)\n",
    "\n",
    "for i in range(0, tree_heigth + 1):\n",
    "    print(\"Nodes at depth [{}]: {}\".format(i, node_array_to_str(getNodesAtDepth(tree.root, i))))\n"
   ]
  }
 ],
 "metadata": {
  "kernelspec": {
   "display_name": "Python 3 (ipykernel)",
   "language": "python",
   "name": "python3"
  },
  "language_info": {
   "codemirror_mode": {
    "name": "ipython",
    "version": 3
   },
   "file_extension": ".py",
   "mimetype": "text/x-python",
   "name": "python",
   "nbconvert_exporter": "python",
   "pygments_lexer": "ipython3",
   "version": "3.10.5"
  },
  "vscode": {
   "interpreter": {
    "hash": "e7370f93d1d0cde622a1f8e1c04877d8463912d04d973331ad4851f04de6915a"
   }
  }
 },
 "nbformat": 4,
 "nbformat_minor": 2
}
